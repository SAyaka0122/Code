{
 "cells": [
  {
   "cell_type": "code",
   "execution_count": 12,
   "metadata": {},
   "outputs": [],
   "source": [
    "import glob\n",
    "import os\n",
    "\n",
    "from PIL import Image\n",
    "\n",
    "input_dir = './input_dir'    \n",
    "output_dir = './output_dir'  \n",
    "size = (299,299)     \n",
    "os.makedirs(output_dir, exist_ok=True)\n",
    "\n",
    "assert(os.path.exists(input_dir)), \"directory '{}' not found\".format(input_dir)\n",
    "for path in glob.glob(input_dir + \"/*.jpeg\"):\n",
    "    img = Image.open(path) \n",
    "    img = img.convert(\"RGB\")\n",
    "    img = img.resize(size)  \n",
    "\n",
    "    name, ext = os.path.splitext(os.path.basename(path))  \n",
    "    save_path = os.path.join(output_dir, '{}_RGB_resized.jpeg'.format(name))  \n",
    "    img.save(save_path)  "
   ]
  }
 ],
 "metadata": {
  "kernelspec": {
   "display_name": "Python 3",
   "language": "python",
   "name": "python3"
  },
  "language_info": {
   "codemirror_mode": {
    "name": "ipython",
    "version": 3
   },
   "file_extension": ".py",
   "mimetype": "text/x-python",
   "name": "python",
   "nbconvert_exporter": "python",
   "pygments_lexer": "ipython3",
   "version": "3.6.9"
  }
 },
 "nbformat": 4,
 "nbformat_minor": 2
}
